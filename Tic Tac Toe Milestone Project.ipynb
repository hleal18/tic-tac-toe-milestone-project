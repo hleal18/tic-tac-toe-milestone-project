{
 "cells": [
  {
   "cell_type": "markdown",
   "metadata": {},
   "source": [
    "# TIC TAC TOE MILESTONE PROJECT\n",
    "First milestone project from the udemy python 3 course: [Python Bootcamp](https://www.udemy.com/complete-python-bootcamp/)\n",
    "\n",
    "This is a solution proposed to the project, according to the guidelines requested by the author, available at the official course repo: [Milestone Project Repo](https://github.com/Pierian-Data/Complete-Python-3-Bootcamp/tree/master/04-Milestone%20Project%20-%201)"
   ]
  },
  {
   "cell_type": "markdown",
   "metadata": {},
   "source": [
    "## Fundamental Global Variables\n",
    "\n",
    "These are the global variables that are going to influence the game flow.\n",
    "\n",
    "player1 and player2 will contain the symbol that identifies a player's action on the board with *X* or *O*\n",
    "\n",
    "Board is a dictionary that represents the board as three main sections, superior row, middle row and, the lower row. Each one has a list of three items that represent the value stored at the specific position on the board.\n",
    "\n",
    "These values can vary from *0* for an empty position, *X* and *O* for the symbols that either of the two players had chosen."
   ]
  },
  {
   "cell_type": "code",
   "execution_count": null,
   "metadata": {},
   "outputs": [],
   "source": [
    "player1 = None\n",
    "player2 = None\n",
    "\n",
    "board = {\n",
    "        \"sup\": [0, 0, 0],\n",
    "        \"mid\": [0, 0, 0],\n",
    "        \"low\": [0, 0, 0]\n",
    "    }"
   ]
  },
  {
   "cell_type": "markdown",
   "metadata": {},
   "source": [
    "## Utility and Printing Functions\n",
    "This section contains utility functions useful when rebooting the game, by clearing the values stored in the earlier global variables, such as player1, player2 and the board dictionary.\n",
    "\n",
    "The rest of the section, defines functions used when executing printing tasks, the main one is *print_board*, that prints the board and relies itself on the other printing functions such as *gen_line*, *print_section* and *print_separator*\n",
    "\n",
    "The *print_winner* function, is called when a winner is identified when evaluating the board, function defined on the ahead sections."
   ]
  },
  {
   "cell_type": "code",
   "execution_count": null,
   "metadata": {},
   "outputs": [],
   "source": [
    "def clear_players():\n",
    "    global player1\n",
    "    global player2\n",
    "    \n",
    "    player1 = None\n",
    "    player2 = None\n",
    "\n",
    "def clear_board():\n",
    "    global board \n",
    "    board = {\n",
    "        \"sup\": [0, 0, 0],\n",
    "        \"mid\": [0, 0, 0],\n",
    "        \"low\": [0, 0, 0]\n",
    "    }\n",
    "\n",
    "def print_winner(symbol):\n",
    "    if player1 == symbol:\n",
    "        print(\"Player 1 wins!\")\n",
    "    elif player2 == symbol:\n",
    "        print(\"Player 2 wins!\")\n",
    "\n",
    "def gen_line(symbol = \" \"):\n",
    "    if symbol == 0:\n",
    "        symbol = \" \"\n",
    "    return \" \" + symbol + \" \"\n",
    "\n",
    "def print_section(section):\n",
    "    line = \"   \"\n",
    "    print(line + \"|\" + line + \"|\" + line)\n",
    "    print(gen_line(section[0]) + \"|\" + gen_line(section[1]) + \"|\" + gen_line(section[2]))\n",
    "    print(line + \"|\" + line + \"|\" + line)\n",
    "    \n",
    "def print_separator():\n",
    "    print(''.join(\"-\" for x in range(0, 12)))\n",
    "\n",
    "def print_board():\n",
    "    print_section(board[\"sup\"])\n",
    "    print_separator()\n",
    "    print_section(board[\"mid\"])\n",
    "    print_separator()\n",
    "    print_section(board[\"low\"])"
   ]
  },
  {
   "cell_type": "markdown",
   "metadata": {},
   "source": [
    "## Basic Input Player Functions\n",
    "This section defines two essential functions when dealing with inputs from the players that represent actions to reflect on the board.\n",
    "\n",
    "*select_symbol_player* will collect the symbol that is going to identify a player on the board.\n",
    "\n",
    "*move_player* will modify the board dictionary according to the cell number received from the player only if the one that was selected is available. It relies on functions that check if the selected cell is available and other that modifies the board. These two functions mentioned earlier are defined in the next section."
   ]
  },
  {
   "cell_type": "code",
   "execution_count": null,
   "metadata": {},
   "outputs": [],
   "source": [
    "def select_symbol_player(num):\n",
    "    global player1\n",
    "    global player2\n",
    "    while(1):\n",
    "        print(\"Player {}: select X or O\".format(num))\n",
    "        symbol_selected = input()\n",
    "        \n",
    "        if symbol_selected == \"X\":\n",
    "            if num == 1:\n",
    "                player1 = \"X\"\n",
    "                player2 = \"O\"\n",
    "                break\n",
    "            elif num == 2:\n",
    "                player2 = \"X\"\n",
    "                player1 = \"O\"\n",
    "                break\n",
    "        elif symbol_selected == \"O\":\n",
    "            if num == 1:\n",
    "                player1 = \"O\"\n",
    "                player2 = \"X\"\n",
    "                break\n",
    "            elif num == 2:\n",
    "                player2 = \"O\"\n",
    "                player1 = \"X\"\n",
    "                break\n",
    "\n",
    "def move_player(num):\n",
    "    player = 0\n",
    "    if num == 1:\n",
    "        player = player1\n",
    "    elif num == 2:\n",
    "        player = player2\n",
    "    while(1):\n",
    "        print(\"Player {}: Select cells starting from 1 to 9\".format(num))\n",
    "        \n",
    "        cell_selected = int(input())\n",
    "        if cell_selected in range(1, 10):\n",
    "            # Evaluates if the cell is available\n",
    "            if is_cell_available(cell_selected):\n",
    "                select_cell(cell_selected, player)\n",
    "                break\n",
    "            else:\n",
    "                print(\"Cell not available, please select another one\")\n",
    "        else:\n",
    "            print(\"Please choose a valid cell\")"
   ]
  },
  {
   "cell_type": "markdown",
   "metadata": {},
   "source": [
    "## Cell Operation Functions\n",
    "This section defines functions that execute tasks on the cells, by evaluating if a specific cell is available and by changing the value of the selected cell on the board with the symbol specified."
   ]
  },
  {
   "cell_type": "code",
   "execution_count": null,
   "metadata": {},
   "outputs": [],
   "source": [
    "def is_cell_available(cell):\n",
    "    if cell in range(1, 4):\n",
    "        return board[\"low\"][cell-1] == 0\n",
    "    elif cell in range(4, 7):\n",
    "        return board[\"mid\"][cell-4] == 0\n",
    "    elif cell in range(7, 10):\n",
    "        return board[\"sup\"][cell-7] == 0\n",
    "    \n",
    "def select_cell(cell, player_symbol):\n",
    "    if cell in range(1, 4):\n",
    "        board[\"low\"][cell-1] = player_symbol\n",
    "    elif cell in range(4, 7):\n",
    "        board[\"mid\"][cell-4] = player_symbol\n",
    "    elif cell in range(7, 10):\n",
    "        board[\"sup\"][cell-7] = player_symbol        "
   ]
  },
  {
   "cell_type": "markdown",
   "metadata": {},
   "source": [
    "## Process The Board\n",
    "These are the functions that process the board and it's sections looking for a winner according to the symbols used *X* and *O*."
   ]
  },
  {
   "cell_type": "code",
   "execution_count": null,
   "metadata": {},
   "outputs": [],
   "source": [
    "def filter_section(symbol, section):    \n",
    "    return list(filter(lambda x: x == symbol, section))\n",
    "    \n",
    "def evaluate_section(section):\n",
    "    if len(filter_section(\"X\", section)) == 3:\n",
    "        print_winner(\"X\")\n",
    "        return True\n",
    "    elif len(filter_section(\"O\", section)) == 3:\n",
    "        print_winner(\"O\")\n",
    "        return True\n",
    "    return False\n",
    "    \n",
    "def evaluate_board():\n",
    "    full_sup_row = board[\"sup\"]\n",
    "    full_mid_row = board[\"mid\"]\n",
    "    full_low_row = board[\"low\"]\n",
    "    left_right_sup_diag = [board[\"sup\"][0], board[\"mid\"][1], board[\"low\"][2]]\n",
    "    left_right_low_diag = [board[\"low\"][0], board[\"mid\"][1], board[\"sup\"][2]]\n",
    "    full_left_column = [board[\"sup\"][0], board[\"mid\"][0], board[\"low\"][0]]\n",
    "    full_mid_column = [board[\"sup\"][1], board[\"mid\"][1], board[\"low\"][1]]\n",
    "    full_right_column = [board[\"sup\"][2], board[\"mid\"][2], board[\"low\"][2]]\n",
    "    \n",
    "    # Superior row\n",
    "    if evaluate_section(full_sup_row):\n",
    "        return True\n",
    "    # Middle row\n",
    "    elif evaluate_section(full_mid_row):\n",
    "        return True\n",
    "    # Lower row\n",
    "    elif evaluate_section(full_low_row):\n",
    "        return True\n",
    "    elif evaluate_section(left_right_sup_diag):\n",
    "        return True\n",
    "    elif evaluate_section(left_right_low_diag):\n",
    "        return True\n",
    "    elif evaluate_section(full_left_column):\n",
    "        return True\n",
    "    elif evaluate_section(full_mid_column):\n",
    "        return True\n",
    "    elif evaluate_section(full_right_column):\n",
    "        return True\n",
    "    else:\n",
    "        return False"
   ]
  },
  {
   "cell_type": "markdown",
   "metadata": {},
   "source": [
    "## Main Game Function\n",
    "This function relies on all the functions defined above. Sequentially executes the functions that will allow the game to be played successfully. It relies on the IPython.display module to use the *clear_output* function, used for clearing the output of the notebook cell."
   ]
  },
  {
   "cell_type": "code",
   "execution_count": null,
   "metadata": {},
   "outputs": [],
   "source": [
    "from IPython.display import clear_output\n",
    "\n",
    "def run_game():\n",
    "    while(1):\n",
    "        clear_output()\n",
    "        clear_board()\n",
    "        clear_players()\n",
    "        select_symbol_player(1)\n",
    "        clear_output()\n",
    "        while(1):\n",
    "            \n",
    "            print_board()\n",
    "            move_player(1)\n",
    "            clear_output()\n",
    "            print_board()\n",
    "            if evaluate_board():\n",
    "                print(\"Game finished!\")\n",
    "                break\n",
    "            move_player(2)\n",
    "            clear_output()\n",
    "            print_board()\n",
    "            if evaluate_board():\n",
    "                print(\"Game finished!\")\n",
    "                break\n",
    "            clear_output()\n",
    "        print(\"Do you want to play again? Y or N\")\n",
    "        if input().lower() == \"n\":\n",
    "            break"
   ]
  },
  {
   "cell_type": "markdown",
   "metadata": {},
   "source": [
    "### Execute the game\n",
    "To run the game, just execute the function *run_game* and follow the instructions."
   ]
  },
  {
   "cell_type": "code",
   "execution_count": null,
   "metadata": {},
   "outputs": [],
   "source": [
    "run_game()"
   ]
  }
 ],
 "metadata": {
  "kernelspec": {
   "display_name": "Python 3",
   "language": "python",
   "name": "python3"
  },
  "language_info": {
   "codemirror_mode": {
    "name": "ipython",
    "version": 3
   },
   "file_extension": ".py",
   "mimetype": "text/x-python",
   "name": "python",
   "nbconvert_exporter": "python",
   "pygments_lexer": "ipython3",
   "version": "3.6.5"
  }
 },
 "nbformat": 4,
 "nbformat_minor": 2
}
